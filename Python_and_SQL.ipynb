{
  "cells": [
    {
      "cell_type": "markdown",
      "id": "963361ba",
      "metadata": {
        "id": "963361ba"
      },
      "source": [
        "### Настройки"
      ]
    },
    {
      "cell_type": "code",
      "execution_count": 1,
      "id": "928bd544",
      "metadata": {
        "id": "928bd544"
      },
      "outputs": [],
      "source": [
        "# импорт библиотек\n",
        "import pandas as pd\n",
        "import psycopg2\n",
        "\n",
        "import warnings\n",
        "warnings.filterwarnings(\"ignore\")"
      ]
    },
    {
      "cell_type": "code",
      "execution_count": 2,
      "id": "hs66HgVWqgRA",
      "metadata": {
        "id": "hs66HgVWqgRA"
      },
      "outputs": [],
      "source": [
        "# данные коннекта с postregSQL\n",
        "# при размещении в github удалите эту ячейку\n",
        "\n",
        "DBNAME = 'project_sql'\n",
        "USER = 'skillfactory'\n",
        "PASSWORD = 'cCkxxLVrDE8EbvjueeMedPKt'\n",
        "HOST = '84.201.134.129'\n",
        "PORT = 5432"
      ]
    },
    {
      "attachments": {},
      "cell_type": "markdown",
      "id": "TEgQI_RKfqa9",
      "metadata": {
        "id": "TEgQI_RKfqa9"
      },
      "source": [
        "Cоединение с заданными параметрами"
      ]
    },
    {
      "cell_type": "code",
      "execution_count": 3,
      "id": "70d84b8f",
      "metadata": {
        "id": "70d84b8f"
      },
      "outputs": [],
      "source": [
        "connection = psycopg2.connect(\n",
        "    dbname=DBNAME,\n",
        "    user=USER,\n",
        "    host=HOST,\n",
        "    password=PASSWORD,\n",
        "    port=PORT\n",
        ")"
      ]
    },
    {
      "attachments": {},
      "cell_type": "markdown",
      "id": "06k1EnoRiC-I",
      "metadata": {
        "id": "06k1EnoRiC-I"
      },
      "source": [
        "Задание 3. Знакомство с данными. Предварительный анализ данных"
      ]
    },
    {
      "cell_type": "code",
      "execution_count": 4,
      "id": "35e24169",
      "metadata": {
        "id": "35e24169"
      },
      "outputs": [
        {
          "name": "stdout",
          "output_type": "stream",
          "text": [
            "Число вакансий в базе данных: 49197\n",
            "Число работодателей в базе данных: 23501\n",
            "Число регионов в базе данных: 1362\n",
            "Число сфер деятельности в базе данных: 294\n"
          ]
        }
      ],
      "source": [
        "# определяем количество вакансий в базе\n",
        "v_count_query = 'select count(*) from vacancies'\n",
        "v_count = pd.read_sql_query(v_count_query,connection)\n",
        "print('Число вакансий в базе данных:', v_count.iloc[0][0])\n",
        "\n",
        "#определяем число работодателей в базе\n",
        "e_count_query = 'select count(*) from employers'\n",
        "e_count = pd.read_sql_query(e_count_query,connection)\n",
        "print('Число работодателей в базе данных:', e_count.iloc[0][0])\n",
        "\n",
        "#определяем число регионов в базе\n",
        "a_count_query = 'select count(*) from areas'\n",
        "a_count = pd.read_sql_query(a_count_query,connection)\n",
        "print('Число регионов в базе данных:', a_count.iloc[0][0])\n",
        "\n",
        "#определяем число сфер деятельности в базе\n",
        "i_count_query = 'select count(*) from industries'\n",
        "i_count = pd.read_sql_query(i_count_query,connection)\n",
        "print('Число сфер деятельности в базе данных:', i_count.iloc[0][0])\n",
        "\n"
      ]
    },
    {
      "attachments": {},
      "cell_type": "markdown",
      "id": "41b2150b",
      "metadata": {},
      "source": [
        "Задание 4. Детальное исследование вакансий"
      ]
    },
    {
      "cell_type": "code",
      "execution_count": 5,
      "id": "7d0dd6c7",
      "metadata": {},
      "outputs": [
        {
          "name": "stdout",
          "output_type": "stream",
          "text": [
            "               area   cnt\n",
            "0            Москва  5333\n",
            "1   Санкт-Петербург  2851\n",
            "2             Минск  2112\n",
            "3       Новосибирск  2006\n",
            "4            Алматы  1892\n",
            "5      Екатеринбург  1698\n",
            "6   Нижний Новгород  1670\n",
            "7            Казань  1415\n",
            "8         Краснодар  1301\n",
            "9            Самара  1144\n",
            "10   Ростов-на-Дону  1131\n",
            "11          Воронеж  1063\n",
            "12          Ташкент   851\n",
            "13       Красноярск   847\n",
            "14       Нур-Султан   840\n",
            "15        Челябинск   786\n",
            "16            Пермь   771\n",
            "17              Уфа   767\n",
            "18            Томск   692\n",
            "19             Омск   617\n",
            "20          Саратов   579\n",
            "21           Тюмень   547\n",
            "22      Владивосток   539\n",
            "23          Тбилиси   474\n",
            "24           Ижевск   466\n",
            "25        Волгоград   456\n",
            "26          Иркутск   451\n",
            "27        Ярославль   391\n",
            "28          Барнаул   374\n",
            "29           Рязань   346\n"
          ]
        }
      ],
      "source": [
        "# Распределение числа вакансий по регионам\n",
        "query = '''select a.name area, count(v.id) cnt \n",
        "        from vacancies v left join areas a on v.area_id=a.id \n",
        "        group by a.name order by cnt desc'''\n",
        "vacancies_by_area = pd.read_sql_query(query, connection)\n",
        "print(vacancies_by_area.head(30))"
      ]
    },
    {
      "cell_type": "code",
      "execution_count": 6,
      "id": "16b2f229",
      "metadata": {},
      "outputs": [
        {
          "name": "stdout",
          "output_type": "stream",
          "text": [
            "Число строк с хотя бы одним непустым полем зарплаты: 24073\n",
            "Средние значения границ зарплатной вилки: 71065 110537\n"
          ]
        }
      ],
      "source": [
        "# Число вакансий с хотя бы одним непустым полем зарплаты\n",
        "query = '''select count(*) cnt from vacancies \n",
        "        where (salary_from is not null) or (salary_to is not null)'''\n",
        "salary_not_null_cnt = pd.read_sql_query(query, connection)\n",
        "print('Число строк с хотя бы одним непустым полем зарплаты:', salary_not_null_cnt.iloc[0][0])\n",
        "\n",
        "# Среднее значение для нижней и верхней границ зарплатной вилки\n",
        "query = '''select avg(salary_from) avg_from, avg(salary_to) avg_to from vacancies'''\n",
        "salary_mean = pd.read_sql_query(query, connection)\n",
        "print('Средние значения границ зарплатной вилки:', round(salary_mean['avg_from'].iloc[0]), round(salary_mean['avg_to'].iloc[0]))"
      ]
    },
    {
      "cell_type": "code",
      "execution_count": 7,
      "id": "49ba901a",
      "metadata": {},
      "outputs": [
        {
          "name": "stdout",
          "output_type": "stream",
          "text": [
            "            schedule           employment  number\n",
            "0        Полный день     Полная занятость   35367\n",
            "1   Удаленная работа     Полная занятость    7802\n",
            "2      Гибкий график     Полная занятость    1593\n",
            "3   Удаленная работа  Частичная занятость    1312\n",
            "4     Сменный график     Полная занятость     940\n",
            "5        Полный день           Стажировка     569\n",
            "6     Вахтовый метод     Полная занятость     367\n",
            "7        Полный день  Частичная занятость     347\n",
            "8      Гибкий график  Частичная занятость     312\n",
            "9        Полный день     Проектная работа     141\n",
            "10  Удаленная работа     Проектная работа     133\n",
            "11     Гибкий график           Стажировка     116\n",
            "12    Сменный график  Частичная занятость     101\n",
            "13  Удаленная работа           Стажировка      64\n",
            "14     Гибкий график     Проектная работа      18\n",
            "15    Сменный график           Стажировка      12\n",
            "16    Вахтовый метод     Проектная работа       2\n",
            "17    Сменный график     Проектная работа       1\n"
          ]
        }
      ],
      "source": [
        "# Распределение вакансий по совокупности график работы - занятость\n",
        "query = '''select schedule, employment, count(id) number from vacancies \n",
        "group by schedule, employment order by number desc'''\n",
        "sched_vac = pd.read_sql_query(query, connection)\n",
        "print(sched_vac)\n"
      ]
    },
    {
      "cell_type": "code",
      "execution_count": 8,
      "id": "cea6985b",
      "metadata": {},
      "outputs": [
        {
          "name": "stdout",
          "output_type": "stream",
          "text": [
            "           experience  number\n",
            "0  От 1 года до 3 лет   26152\n",
            "1       От 3 до 6 лет   14511\n",
            "2           Нет опыта    7197\n",
            "3         Более 6 лет    1337\n"
          ]
        }
      ],
      "source": [
        "# Распределение вакансий в зависимости от опыта работы\n",
        "query = '''select experience, count(id) number from vacancies\n",
        "        group by experience order by number desc'''\n",
        "\n",
        "experience = pd.read_sql_query(query, connection)\n",
        "print(experience)"
      ]
    },
    {
      "attachments": {},
      "cell_type": "markdown",
      "id": "7bf5147c",
      "metadata": {},
      "source": [
        "Детальный анализ вакансий показывает, что распределение вакансий по регионам напрямую зависит от размера региона:\n",
        "на первом и втором месте оказались крупнейшие города России - Моква и Санкт-Петербург. На третьем месте оказался Минск. \n",
        "Скорее всего это определилось тем, что в Минске есть крупный IT кластер, а большинство вакансий в данной базе \n",
        "(см. исследование ниже) относится к IT.\n",
        "По графику работы более половины вакансий предусматривают традиционный график работы:  постоянную работу с полной занятостью. Но на втором месте по численности оказалась удаленная работа при полной занятости, что говорит об изменении условий труда в связи с развитием интернета, глобализацией. Свою лепту в развитие удаленной работы внес Ковид.\n",
        "Неожиданный результат дало распределение вакансий в зависимости от опыта работы: наибольшим спросом пользуются специалисты с опытом работы от года до трех лет (26152 вакансии), на втором месте специалисты с опытом работы от 3 до 6 лет. Возможно, это опять связано с тем, что большинство вакансий в базе так или иначе связано с IT и говорит о бурном развитии данной сферы: возникновение новых направлений, новых бизнесов. Возможно, что распределение вакансий связано с зарплатными возможностями: чем больше опыт работы, тем выше запрос соискателя по зарплате. Наименьшим спросом пользуются специалисты с опытом работы более 6 лет. Для ответа на вопрос почему это так, требуются дополнительные исследования. Предположение: вакансии с таким опытом работы подразумевают руководящие должности и более высокие зарплаты.\n",
        "По зарплатам: к сожалению, возможная зарплата указана менее, чем у половины вакансий. Средние значения зарплатной вилки не дают возможности для анализа. Здесь больше информации для анализа дадут максимум и минимум, медианное значение зарплаты, а также распределение зарплат по регионам, отраслям, опыту работы и графику."
      ]
    },
    {
      "attachments": {},
      "cell_type": "markdown",
      "id": "50eafca4",
      "metadata": {},
      "source": [
        "Задание 5. Анализ работодателей"
      ]
    },
    {
      "cell_type": "code",
      "execution_count": 9,
      "id": "8042306f",
      "metadata": {},
      "outputs": [
        {
          "name": "stdout",
          "output_type": "stream",
          "text": [
            "                        name  number\n",
            "0                     Яндекс    1933\n",
            "1                 Ростелеком     491\n",
            "2                   Тинькофф     444\n",
            "3                       СБЕР     428\n",
            "4              Газпром нефть     331\n",
            "5                ИК СИБИНТЕК     327\n",
            "6                        МТС     292\n",
            "7                    DataArt     247\n",
            "8      Совкомбанк Технологии     204\n",
            "9                 Первый Бит     176\n",
            "10                      Ozon     175\n",
            "11                       IBS     175\n",
            "12                  Andersen     155\n",
            "13                    Тензор     155\n",
            "14                Спецремонт     151\n",
            "15                        VK     150\n",
            "16    Поляков Денис Иванович     127\n",
            "17  Иннотех, Группа компаний     122\n",
            "18           Bell Integrator     121\n",
            "19                     ANCOR     118\n"
          ]
        }
      ],
      "source": [
        "# Распределение вакансий по работодателям\n",
        "query = '''select em.name, count(v.id) number from employers em, vacancies v\n",
        "where v.employer_id=em.id group by em.name order by number desc limit 20'''\n",
        "\n",
        "vacancies_by_employers = pd.read_sql_query(query, connection)\n",
        "print(vacancies_by_employers)"
      ]
    },
    {
      "cell_type": "code",
      "execution_count": 10,
      "id": "f40ef726",
      "metadata": {},
      "outputs": [
        {
          "name": "stdout",
          "output_type": "stream",
          "text": [
            "                               name  count  count\n",
            "0                            Россия    410      0\n",
            "1                         Казахстан    207      0\n",
            "2                Московская область     75      0\n",
            "3                Краснодарский край     19      0\n",
            "4                          Беларусь     18      0\n",
            "..                              ...    ...    ...\n",
            "588                        Кувандык      0      0\n",
            "589                        Куйбышев      0      0\n",
            "590  Куйбышево (Ростовская область)      0      0\n",
            "591                        Култаево      0      0\n",
            "592                        Кульсары      0      0\n",
            "\n",
            "[593 rows x 3 columns]\n"
          ]
        }
      ],
      "source": [
        "# Распределение работодателей и вакансий по регионам\n",
        "query = '''select ar.name, count(distinct em.id), count(v.id)  from areas ar\n",
        "left join employers em on ar.id=em.area\n",
        "left join vacancies v on v.area_id=ar.id\n",
        "where v.id is null\n",
        "group by ar.name\n",
        "order by count(distinct em.id) desc'''\n",
        "\n",
        "empl_vac_by_area = pd.read_sql_query(query, connection)\n",
        "print(empl_vac_by_area)\n"
      ]
    },
    {
      "cell_type": "code",
      "execution_count": 11,
      "id": "3d081066",
      "metadata": {},
      "outputs": [
        {
          "name": "stdout",
          "output_type": "stream",
          "text": [
            "                     employer  areas\n",
            "0                      Яндекс    181\n",
            "1                  Ростелеком    152\n",
            "2                  Спецремонт    116\n",
            "3      Поляков Денис Иванович     88\n",
            "4                   ООО ЕФИН      71\n",
            "...                       ...    ...\n",
            "14761                  UniSol      1\n",
            "14762            UNISTORY LLC      1\n",
            "14763                   UNIT6      1\n",
            "14764     United Distribution      1\n",
            "14765              UNITEL LLC      1\n",
            "\n",
            "[14766 rows x 2 columns]\n"
          ]
        }
      ],
      "source": [
        "# Количество вакансий, которые работодатели публикуют по разным регионам\n",
        "query = '''select em.name employer, count(distinct v.area_id) areas from vacancies v\n",
        "left join employers em on v.employer_id=em.id\n",
        "group by em.name order by areas desc'''\n",
        "\n",
        "empl_areas = pd.read_sql_query(query, connection)\n",
        "print(empl_areas)"
      ]
    },
    {
      "cell_type": "code",
      "execution_count": 12,
      "id": "c9c43bec",
      "metadata": {},
      "outputs": [
        {
          "name": "stdout",
          "output_type": "stream",
          "text": [
            "Число работодателей, у которых не указана сфера деятельности: 8419\n"
          ]
        }
      ],
      "source": [
        "# Подсчет числа работодателей, у которых не указана сфера деятельности\n",
        "query = '''select count(em.id) total  from employers em\n",
        "        left join employers_industries ei on em.id=ei.employer_id\n",
        "        group by ei.industry_id\n",
        "        having ei.industry_id is null'''\n",
        "\n",
        "industry_null = pd.read_sql_query(query, connection)\n",
        "\n",
        "print('Число работодателей, у которых не указана сфера деятельности:', industry_null['total'][0])"
      ]
    },
    {
      "cell_type": "code",
      "execution_count": 13,
      "id": "74f0fdc1",
      "metadata": {},
      "outputs": [
        {
          "name": "stdout",
          "output_type": "stream",
          "text": [
            "Работодатель: 2ГИС\n"
          ]
        }
      ],
      "source": [
        "# Название третьего по алфавиту работодателя, который работает в 4 сферах детельности\n",
        "query = '''select em.name employer from employers em\n",
        "left join employers_industries ei on em.id=ei.employer_id\n",
        "group by em.name\n",
        "having count(ei.industry_id)=4 order by employer\n",
        "offset 2 limit 1'''\n",
        "\n",
        "employer_4 = pd. read_sql_query(query, connection)\n",
        "\n",
        "print('Работодатель:', employer_4['employer'][0])"
      ]
    },
    {
      "cell_type": "code",
      "execution_count": 14,
      "id": "71e24e0b",
      "metadata": {},
      "outputs": [
        {
          "name": "stdout",
          "output_type": "stream",
          "text": [
            "industry         Разработка программного обеспечения\n",
            "employers_cnt                                   3553\n",
            "Name: 0, dtype: object\n"
          ]
        }
      ],
      "source": [
        "# Число работодателей работающих в сфере разработки ПО\n",
        "query = '''select ind.name industry, count(ei.employer_id) employers_cnt from employers_industries ei\n",
        "left join industries ind on ei.industry_id=ind.id\n",
        "group by ind.name\n",
        "having ind.name='Разработка программного обеспечения'\n",
        "'''\n",
        "\n",
        "employer = pd.read_sql_query(query, connection)\n",
        "\n",
        "print(employer.iloc[0])"
      ]
    },
    {
      "cell_type": "code",
      "execution_count": 15,
      "id": "4079e2b6",
      "metadata": {},
      "outputs": [
        {
          "name": "stdout",
          "output_type": "stream",
          "text": [
            "               name  cnt\n",
            "0              Омск   21\n",
            "1         Челябинск   22\n",
            "2        Красноярск   23\n",
            "3         Волгоград   24\n",
            "4             Пермь   25\n",
            "5            Казань   25\n",
            "6    Ростов-на-Дону   25\n",
            "7               Уфа   26\n",
            "8            Самара   26\n",
            "9         Краснодар   30\n",
            "10          Воронеж   32\n",
            "11      Новосибирск   35\n",
            "12  Нижний Новгород   36\n",
            "13     Екатеринбург   39\n",
            "14  Санкт-Петербург   42\n",
            "15           Москва   54\n",
            "16            total  485\n"
          ]
        }
      ],
      "source": [
        "# Число вакансий Яндекса в городах-миллионниках\n",
        "\n",
        "query = '''(select ar.name, count(v.id) cnt from vacancies v\n",
        "left join employers em on v.employer_id=em.id\n",
        "left join areas ar on v.area_id=ar.id\n",
        "where ar.name in ('Москва','Санкт-Петербург','Новосибирск','Екатеринбург','Казань','Нижний Новгород','Челябинск','Красноярск','Самара','Уфа','Ростов-на-Дону','Омск','Краснодар','Воронеж','Пермь','Волгоград')\n",
        "and em.name='Яндекс'\n",
        "group by ar.name)\n",
        "union all\n",
        "(select 'total',count(v.id) cnt from vacancies v\n",
        "left join employers em on v.employer_id=em.id\n",
        "left join areas ar on v.area_id=ar.id\n",
        "where ar.name in ('Москва','Санкт-Петербург','Новосибирск','Екатеринбург','Казань','Нижний Новгород','Челябинск','Красноярск','Самара','Уфа','Ростов-на-Дону','Омск','Краснодар','Воронеж','Пермь','Волгоград')\n",
        "and em.name='Яндекс'\n",
        ") order by cnt'''\n",
        "\n",
        "yandex_region_vacancies = pd.read_sql_query(query, connection)\n",
        "print(yandex_region_vacancies)"
      ]
    },
    {
      "attachments": {},
      "cell_type": "markdown",
      "id": "ec688af2",
      "metadata": {},
      "source": [
        "Наибольшее число работодателей в данной базе являются российскими (410 компаний) (что неудивительно, так как изучаемая база данных принадлежит российскому агенству). На втором месте находится Казахстан (207 компаний), что говорит о тесном экономическом сотрудничестве наших стран. Если посмотреть распределение вакансий по регионам, то суммарное число вакансий по двум крупнейшим городам Казахстана (Алма-Аты и Нур-Султан) составляет 2732, что почти догоняет число вакансий в Санкт-Петербурге (2851).\n",
        "Из 23501 работодателя в БД у более, чем трети (8419) не указана сфера деятельности (возможно, ее можем определить по характеру вакансий), у некоторых указано более одной сферы деятельности. Здесь возможны варианты, как компания работает в нескольких направлениях одной сферы (например, разработка ПО, сопровождение ПО), так и холдинг, работающий в разных направлениях (например Яндекс как разработчик ПО, Яндекс-браузер, Яндекс-доставка). Требуются дополнительные исследования.\n",
        "Крупнейшими работодателями в данной базе являются крупные межрегиональные российские холдинги, большинство из которых работают в сфере высоких технологий: Яндекс, Ростелеком, СБЕР, Тинькофф, Газпром, IBS, VK и т. д. На первом месте по всем параметрам располагается компания Яндекс: 1933 вакансии в 181 регионе. Это опять приводит нас к тому, что больше всег вакансий относятся к сфере IT. РАспределение вакансий Яндекса по городам не дает нам ничего нового: чем крупнее город, тем больше в нем вакансий. Первое и второе места: Москва и Санкт-Петербург."
      ]
    },
    {
      "attachments": {},
      "cell_type": "markdown",
      "id": "3de08021",
      "metadata": {},
      "source": [
        "Задание 6. Анализ вакансий в области DataScience"
      ]
    },
    {
      "cell_type": "code",
      "execution_count": 16,
      "id": "28a35ee5",
      "metadata": {},
      "outputs": [
        {
          "name": "stdout",
          "output_type": "stream",
          "text": [
            "Число вакансий, имеющих отношение к данным: 1771\n"
          ]
        }
      ],
      "source": [
        "# Число вакансий, имеющих отношение к данным\n",
        "\n",
        "query = '''select count(name) from vacancies where lower(name) like '%data%' or lower(name) like '%данн%'\n",
        "        '''\n",
        "vacancies_total = pd.read_sql_query(query, connection)\n",
        "\n",
        "print('Число вакансий, имеющих отношение к данным:', vacancies_total['count'][0])"
      ]
    },
    {
      "cell_type": "code",
      "execution_count": 17,
      "id": "5f024474",
      "metadata": {},
      "outputs": [],
      "source": [
        "# дополнительный запрос для выборки вакансий Data Science\n",
        "ds_vacancies = '''with ds_vacancies as \n",
        "                (select * from vacancies \n",
        "                where lower(name) like '%data scientist%' or lower(name) like '%data science%' \n",
        "                or lower(name) like '%исследователь данных%' or (name like '%ML%' and name not like '%HTML%') \n",
        "                or lower(name) like '%machine learning%' or lower(name) like '%машинн%обучен%') \n",
        "                '''"
      ]
    },
    {
      "cell_type": "code",
      "execution_count": 18,
      "id": "c4e4bf69",
      "metadata": {},
      "outputs": [
        {
          "name": "stdout",
          "output_type": "stream",
          "text": [
            "Число вакансий для начинающих: 51\n"
          ]
        }
      ],
      "source": [
        "# Вакансии Data Science для Junior\n",
        "query = ds_vacancies + '''select count(*) from ds_vacancies \n",
        "        where lower(name) like '%junior%' or employment='Стажировка' or experience='Нет опыта'\n",
        "        '''\n",
        "\n",
        "junior_ds_vac = pd.read_sql_query(query, connection)\n",
        "print('Число вакансий для начинающих:',junior_ds_vac['count'][0])"
      ]
    },
    {
      "cell_type": "code",
      "execution_count": 19,
      "id": "2d186219",
      "metadata": {},
      "outputs": [
        {
          "name": "stdout",
          "output_type": "stream",
          "text": [
            "Число вакансий со знанием SQL: 201\n"
          ]
        }
      ],
      "source": [
        "# Число вакансий DS с ключевым навыком \"SQL\" или \"postreg\"\n",
        "query = ds_vacancies + '''select count(*) from ds_vacancies \n",
        "        where key_skills like '%SQL%' or lower(key_skills) like '%postgres%'\n",
        "        '''\n",
        "\n",
        "sql_skill_vac = pd.read_sql_query(query, connection)\n",
        "\n",
        "print('Число вакансий со знанием SQL:', sql_skill_vac['count'][0])"
      ]
    },
    {
      "cell_type": "code",
      "execution_count": 20,
      "id": "99fed3db",
      "metadata": {},
      "outputs": [
        {
          "name": "stdout",
          "output_type": "stream",
          "text": [
            "Число вакансий со знанием Python: 351\n"
          ]
        }
      ],
      "source": [
        "# Число вакансий DS с ключевым навыком Python\n",
        "query = ds_vacancies + '''select count(*) from ds_vacancies where key_skills like '%Python%'\n",
        "        '''\n",
        "\n",
        "python_skill_vac = pd.read_sql_query(query, connection)\n",
        "\n",
        "print('Число вакансий со знанием Python:', python_skill_vac['count'][0])"
      ]
    },
    {
      "cell_type": "code",
      "execution_count": 21,
      "id": "c1c7b084",
      "metadata": {},
      "outputs": [
        {
          "name": "stdout",
          "output_type": "stream",
          "text": [
            "        avg\n",
            "0  6.406032\n"
          ]
        }
      ],
      "source": [
        "# Среднее число навыков, указываемых в вакансиях DS\n",
        "query = ds_vacancies + '''select avg(array_length(regexp_split_to_array(key_skills,'\\t'),1)) from ds_vacancies'''\n",
        "\n",
        "key_skills_avg = pd.read_sql_query(query, connection)\n",
        "print(key_skills_avg)"
      ]
    },
    {
      "cell_type": "code",
      "execution_count": 22,
      "id": "6057eb37",
      "metadata": {},
      "outputs": [
        {
          "name": "stdout",
          "output_type": "stream",
          "text": [
            "           experience         salary\n",
            "0       От 3 до 6 лет  243114.666667\n",
            "1  От 1 года до 3 лет  139674.750000\n",
            "2           Нет опыта   74642.857143\n"
          ]
        }
      ],
      "source": [
        "# Средняя зарплата в зависимости от опыта работы\n",
        "query = ds_vacancies + ''' select experience, avg(coalesce((salary_from+salary_to)/2,salary_from,salary_to)) salary\n",
        "from ds_vacancies where salary_from is not null or salary_to is not null\n",
        "group by experience'''\n",
        "\n",
        "#print(ds_vacancies, query)\n",
        "\n",
        "salary_avg_by_exp = pd.read_sql_query(query, connection)\n",
        "\n",
        "print(salary_avg_by_exp)"
      ]
    },
    {
      "attachments": {},
      "cell_type": "markdown",
      "id": "0ddb8065",
      "metadata": {},
      "source": [
        "7. Дополнительные исследования"
      ]
    },
    {
      "cell_type": "code",
      "execution_count": 23,
      "id": "72dafbc0",
      "metadata": {},
      "outputs": [
        {
          "name": "stdout",
          "output_type": "stream",
          "text": [
            "           experience    salary\n",
            "0         Более 6 лет  166256.0\n",
            "1       От 3 до 6 лет  133211.0\n",
            "2  От 1 года до 3 лет   76541.0\n",
            "3           Нет опыта   40472.0\n"
          ]
        }
      ],
      "source": [
        "# Распределение средних зарплат в зависимости от опыта работы\n",
        "query = '''select experience, round(avg(coalesce((salary_from+salary_to)/2,salary_from,salary_to))) salary\n",
        "from vacancies where salary_from is not null or salary_to is not null\n",
        "group by experience order by salary desc'''\n",
        "\n",
        "salary_avg_by_exp = pd.read_sql_query(query, connection)\n",
        "print(salary_avg_by_exp)"
      ]
    },
    {
      "cell_type": "code",
      "execution_count": 24,
      "id": "0ddb81a6",
      "metadata": {},
      "outputs": [],
      "source": [
        "# Дополнительные запросы для выборок из БД\n",
        "\n",
        "# Вакансии для разработчиков ПО\n",
        "programming_vacancies = '''programming_vacancies as\n",
        "(select * from vacancies \n",
        "where lower(name) like '%developer%' or lower(name) like '%development%' or lower(name) like '%разработчик%' or \n",
        "lower(name) like '%разработк%' or lower(name) like '%программист%'\n",
        "except\n",
        "select * from vacancies\n",
        "where lower(name) like '%database%' or name like '% DB%' or lower(name) like '%баз%данных%' \n",
        "or name like '%БД%' or lower(name) like '%business development%' \n",
        "or lower(name) like '%data%' or lower(name) like '%данн%')\n",
        "'''\n",
        "\n",
        "# Вакансии для специалистов в других областях IT (администрирование, поддержка, итп)\n",
        "it_spec_vacancies = '''it_spec_vacancies as\n",
        "(select * from vacancies \n",
        "where lower(name) like '%support%' or lower(name) like '%customer service%' or\n",
        "lower(name) like '%help%desk%' or lower(name) like '%тех%поддержк%' or \n",
        "lower(name) like '%system administrator%' or lower(name) like '%системный администратор%' or\n",
        "lower(name) like 'it specialist' or lower(name) like 'it engineer' or lower(name) like '%it project manager%' or\n",
        "lower(name) like 'it специалист' or lower(name) like 'it инженер' or lower(name) like '%менеджер it%проекта%')\n",
        "'''\n",
        "\n",
        "# Вакансии для специалистов по базам данных\n",
        "# db_vacancies = '''db_vacancies as\n",
        "# (select * from vacancies \n",
        "# where lower(name) like '%database%' or name like '% DB%' or lower(name) like '%баз%данных%' or name like '%БД%')\n",
        "# '''\n",
        "\n",
        "# Вакансии для специалистов в области обработки данных\n",
        "data_vacancies = '''data_vacancies as\n",
        "(select * from vacancies where lower(name) like '%data%' or lower(name) like '%данн%')'''\n",
        "# except\n",
        "# select * from vacancies \n",
        "# where lower(name) like '%database%' or name like '% DB%' or lower(name) like '%баз%данных%' or name like '%БД%')'''"
      ]
    },
    {
      "cell_type": "code",
      "execution_count": 25,
      "id": "42f5ab04",
      "metadata": {},
      "outputs": [
        {
          "name": "stdout",
          "output_type": "stream",
          "text": [
            "         stat  development  it_specialists  data_specialists  total_vacancies\n",
            "0  salary_avg     118897.0         52315.0          116919.0          84315.0\n",
            "1  salary_max    1000000.0        350000.0          700000.0        1000000.0\n",
            "2  salary_min       1000.0          2922.0           13835.0           1000.0\n",
            "3   vacancies      15912.0          5134.0            1771.0          49197.0\n"
          ]
        }
      ],
      "source": [
        "# Статистика вакансий разработчиков\n",
        "query = 'with '+ programming_vacancies + ''' select 'vacancies' stat, count(*) development\n",
        "from programming_vacancies\n",
        "union\n",
        "select 'salary_max', max(salary_to) from programming_vacancies where salary_to is not null\n",
        "union\n",
        "select 'salary_min', min(salary_from) from programming_vacancies where salary_from is not null and salary_from >=1000\n",
        "union\n",
        "select 'salary_avg', round(avg(coalesce((salary_from+salary_to)/2,salary_from,salary_to))) salary_avg\n",
        "from programming_vacancies where salary_from is not null or salary_to is not null\n",
        "order by stat'''\n",
        "\n",
        "salary_result_df = pd.read_sql_query(query, connection)\n",
        "#print(salary_result_df)\n",
        "\n",
        "# Статистика вакансий IT специалистов\n",
        "query = 'with '+ it_spec_vacancies + ''' select 'vacancies' stat, count(*) it_specialists\n",
        "from it_spec_vacancies\n",
        "union\n",
        "select 'salary_max', max(salary_to) from it_spec_vacancies where salary_to is not null\n",
        "union\n",
        "select 'salary_min', min(salary_from) from it_spec_vacancies where salary_from is not null and salary_from >=1000\n",
        "union\n",
        "select 'salary_avg', round(avg(coalesce((salary_from+salary_to)/2,salary_from,salary_to))) salary_avg\n",
        "from it_spec_vacancies where salary_from is not null or salary_to is not null\n",
        "order by stat'''\n",
        "\n",
        "salary_result_df['it_specialists'] = pd.read_sql_query(query, connection)['it_specialists']\n",
        "\n",
        "# Статистика вакансий специалистов в области БД\n",
        "#query = 'with '+ db_vacancies + ''' select 'vacancies' stat, count(*) db_specialists\n",
        "#from db_vacancies\n",
        "#union\n",
        "#select 'salary_max', max(salary_to) from db_vacancies where salary_to is not null\n",
        "#union\n",
        "#select 'salary_min', min(salary_from) from db_vacancies where salary_from is not null and salary_from >=1000\n",
        "#union\n",
        "#select 'salary_avg', round(avg(coalesce((salary_from+salary_to)/2,salary_from,salary_to))) salary_avg\n",
        "#from db_vacancies where salary_from is not null or salary_to is not null\n",
        "#order by stat'''\n",
        "\n",
        "#salary_result_df['db_specialists'] = pd.read_sql_query(query, connection)['db_specialists']\n",
        "\n",
        "# Статистика вакансий в области обработки данных\n",
        "query = 'with '+ data_vacancies+ ''' select 'vacancies' stat, count(*) data_specialists\n",
        "from data_vacancies\n",
        "union\n",
        "select 'salary_max', max(salary_to) from data_vacancies where salary_to is not null\n",
        "union\n",
        "select 'salary_min', min(salary_from) from data_vacancies where salary_from is not null and salary_from >=1000\n",
        "union\n",
        "select 'salary_avg', round(avg(coalesce((salary_from+salary_to)/2,salary_from,salary_to))) salary_avg\n",
        "from data_vacancies where salary_from is not null or salary_to is not null\n",
        "order by stat\n",
        "'''\n",
        "\n",
        "salary_result_df['data_specialists'] = pd.read_sql_query(query, connection)['data_specialists']\n",
        "\n",
        "# Статистика вакансий по всей базе данных\n",
        "query = ''' select 'vacancies' stat, count(*) total_vacancies from vacancies\n",
        "union\n",
        "select 'salary_max', max(salary_to) from vacancies where salary_to is not null\n",
        "union\n",
        "select 'salary_min', min(salary_from) from vacancies where salary_from is not null and salary_from >=1000\n",
        "union\n",
        "select 'salary_avg', round(avg(coalesce((salary_from+salary_to)/2,salary_from,salary_to))) salary_avg\n",
        "from vacancies where salary_from is not null or salary_to is not null\n",
        "order by stat\n",
        "'''\n",
        "\n",
        "salary_result_df['total_vacancies'] = pd.read_sql_query(query, connection)['total_vacancies']\n",
        "\n",
        "print(salary_result_df)"
      ]
    },
    {
      "attachments": {},
      "cell_type": "markdown",
      "id": "622e62c1",
      "metadata": {
        "id": "622e62c1"
      },
      "source": [
        "#### Закрытие коннекта"
      ]
    },
    {
      "cell_type": "code",
      "execution_count": 26,
      "id": "8a103f6a",
      "metadata": {
        "id": "8a103f6a"
      },
      "outputs": [],
      "source": [
        "connection.close()"
      ]
    }
  ],
  "metadata": {
    "colab": {
      "collapsed_sections": [],
      "provenance": []
    },
    "kernelspec": {
      "display_name": "Python 3",
      "language": "python",
      "name": "python3"
    },
    "language_info": {
      "codemirror_mode": {
        "name": "ipython",
        "version": 3
      },
      "file_extension": ".py",
      "mimetype": "text/x-python",
      "name": "python",
      "nbconvert_exporter": "python",
      "pygments_lexer": "ipython3",
      "version": "3.10.11"
    },
    "vscode": {
      "interpreter": {
        "hash": "65319c3a8f1c222e4b2889ca09871e11b3188d0fb2222d797279bb75e6009c05"
      }
    }
  },
  "nbformat": 4,
  "nbformat_minor": 5
}
