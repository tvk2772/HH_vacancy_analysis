{
 "cells": [
  {
   "cell_type": "code",
   "execution_count": 5,
   "metadata": {},
   "outputs": [
    {
     "name": "stdout",
     "output_type": "stream",
     "text": [
      "<class 'psycopg2.extensions.connection'>\n",
      "   id       name  type1   type2  hp  attack  defense  speed\n",
      "0   1  Bulbasaur  Grass  Poison  45      49       49     45\n",
      "1   2    Ivysaur  Grass  Poison  60      62       63     60\n",
      "2   3   Venusaur  Grass  Poison  80      82       83     80\n"
     ]
    },
    {
     "name": "stderr",
     "output_type": "stream",
     "text": [
      "C:\\Users\\NOTIK_NEW\\AppData\\Local\\Temp\\ipykernel_13688\\1897468969.py:26: UserWarning: pandas only supports SQLAlchemy connectable (engine/connection) or database string URI or sqlite3 DBAPI2 connection. Other DBAPI2 objects are not tested. Please consider using SQLAlchemy.\n",
      "  pokemon_df = pd.read_sql_query(query, connection)\n"
     ]
    }
   ],
   "source": [
    "import psycopg2\n",
    "import pandas as pd\n",
    "\n",
    "DBNAME = 'skillfactory'\n",
    "USER = 'skillfactory'\n",
    "PASSWORD = 'cCkxxLVrDE8EbvjueeMedPKt'\n",
    "HOST = '84.201.134.129'\n",
    "PORT = 5432\n",
    "\n",
    "#open connection\n",
    "connection = psycopg2.connect (\n",
    "    dbname = 'skillfactory',\n",
    "    user = 'skillfactory',\n",
    "    password = 'cCkxxLVrDE8EbvjueeMedPKt',\n",
    "    host = '84.201.134.129',\n",
    "    port = 5432\n",
    ")\n",
    "\n",
    "print(type(connection))\n",
    "\n",
    "#make request\n",
    "\n",
    "n = 3\n",
    "query = f'''select * from sql.pokemon limit {n}'''\n",
    "\n",
    "pokemon_df = pd.read_sql_query(query, connection)\n",
    "\n",
    "print(pokemon_df)\n",
    "\n",
    "#close connection\n",
    "connection.close()"
   ]
  },
  {
   "cell_type": "code",
   "execution_count": 3,
   "metadata": {},
   "outputs": [
    {
     "name": "stderr",
     "output_type": "stream",
     "text": [
      "C:\\Users\\NOTIK_NEW\\AppData\\Local\\Temp\\ipykernel_5340\\1481203978.py:19: UserWarning: pandas only supports SQLAlchemy connectable (engine/connection) or database string URI or sqlite3 DBAPI2 connection. Other DBAPI2 objects are not tested. Please consider using SQLAlchemy.\n",
      "  key_skills_df = pd.read_sql_query(query, connection)\n"
     ]
    },
    {
     "name": "stdout",
     "output_type": "stream",
     "text": [
      "                                              key_skills\n",
      "0      Пользователь ПК\\tРабота в команде\\tРемонт ноут...\n",
      "1      Средства криптографической защиты информации\\t...\n",
      "2        Spring Framework\\tSQL\\tHibernate ORM\\tJava\\tGit\n",
      "3        Spring Framework\\tSQL\\tHibernate ORM\\tJava\\tGit\n",
      "4                                                   None\n",
      "...                                                  ...\n",
      "49192  Электронный документооборот\\t1С: Предприятие 8...\n",
      "49193  Оптимизация бизнес-процессов\\tСтратегическое м...\n",
      "49194  Организаторские навыки\\tУправление персоналом\\...\n",
      "49195  Swift\\tRealm\\tiOS\\tАнглийский язык\\tMVP\\tMVVM\\...\n",
      "49196                                               None\n",
      "\n",
      "[49197 rows x 1 columns]\n"
     ]
    }
   ],
   "source": [
    "import psycopg2\n",
    "import pandas as pd\n",
    "\n",
    "DBNAME = 'project_sql'\n",
    "USER = 'skillfactory'\n",
    "PASSWORD = 'cCkxxLVrDE8EbvjueeMedPKt'\n",
    "HOST = '84.201.134.129'\n",
    "PORT = 5432\n",
    "\n",
    "connection = psycopg2.connect(\n",
    "    dbname=DBNAME,\n",
    "    user=USER,\n",
    "    host=HOST,\n",
    "    password=PASSWORD,\n",
    "    port=PORT\n",
    ")\n",
    "\n",
    "query = '''select key_skills from vacancies'''\n",
    "key_skills_df = pd.read_sql_query(query, connection)\n",
    "print(key_skills_df)\n",
    "\n",
    "connection.close()"
   ]
  }
 ],
 "metadata": {
  "kernelspec": {
   "display_name": "Python 3",
   "language": "python",
   "name": "python3"
  },
  "language_info": {
   "codemirror_mode": {
    "name": "ipython",
    "version": 3
   },
   "file_extension": ".py",
   "mimetype": "text/x-python",
   "name": "python",
   "nbconvert_exporter": "python",
   "pygments_lexer": "ipython3",
   "version": "3.10.9 (tags/v3.10.9:1dd9be6, Dec  6 2022, 20:01:21) [MSC v.1934 64 bit (AMD64)]"
  },
  "orig_nbformat": 4,
  "vscode": {
   "interpreter": {
    "hash": "65319c3a8f1c222e4b2889ca09871e11b3188d0fb2222d797279bb75e6009c05"
   }
  }
 },
 "nbformat": 4,
 "nbformat_minor": 2
}
